{
 "cells": [
  {
   "cell_type": "code",
   "execution_count": 1,
   "metadata": {},
   "outputs": [],
   "source": [
    "import numpy as np\n",
    "import matplotlib.pyplot as plt\n",
    "import random \n",
    "import csv\n",
    "def loader(filename):\n",
    "    with open(filename) as csvfile:\n",
    "        rawdata = list(csv.reader(csvfile))\n",
    "    return (rawdata)\n",
    "def datasetting(filename):\n",
    "    rawdata = loader(filename)\n",
    "    unsorted = []\n",
    "    for row in rawdata:\n",
    "        row = list(map(float, row))\n",
    "        unsorted.append(row)\n",
    "    for row in unsorted:\n",
    "        y = row.pop(0)\n",
    "        row.append(y)\n",
    "    for row in unsorted:\n",
    "        if row[-1] == 1.0:\n",
    "            row[-1] = 0.0\n",
    "        if row[-1] == 2.0:\n",
    "            row[-1] = 1.0\n",
    "    return unsorted\n",
    "dataset = datasetting(\"learnwine\")\n",
    "def split(dataset, ratio):\n",
    "    train_set = []\n",
    "    test_set = []\n",
    "    random.shuffle(dataset)\n",
    "    for row in dataset[:int(len(dataset)*ratio)]:\n",
    "        train_set.append(row)\n",
    "    for row in dataset[int(len(dataset)*ratio):]:\n",
    "        test_set.append(row)\n",
    "    return train_set, test_set\n",
    "\n",
    "train_set, test_set = split(dataset, 0.75)"
   ]
  },
  {
   "cell_type": "code",
   "execution_count": 2,
   "metadata": {},
   "outputs": [],
   "source": [
    "weights = np.zeros(len(train_set[0])-1)\n",
    "\n",
    "def predict(train, epoch_n, weights, lrate):\n",
    "    z = 0\n",
    "    for i in range(epoch_n):\n",
    "        predictions = []\n",
    "        for row in train:\n",
    "            sum = np.dot(weights, row[:-1])\n",
    "            predicted = 0.0 if sum<z else 1.0\n",
    "            predictions.append(predicted)\n",
    "            for n in range(len(weights)):\n",
    "                weights[n] += lrate*(row[-1]-predicted)*row[n]\n",
    "    return predictions\n",
    "predictions = predict(train_set, 2000, weights, 0.05)\n",
    "def accuracy(predicted, train):\n",
    "    score = 0\n",
    "    actual = [row[-1] for row in train]\n",
    "    for i in range(len(predicted)):\n",
    "        if predicted[i] == actual[i]:\n",
    "            score += 1\n",
    "    return score/float(len(predicted))*100"
   ]
  },
  {
   "cell_type": "code",
   "execution_count": 3,
   "metadata": {},
   "outputs": [
    {
     "name": "stdout",
     "output_type": "stream",
     "text": [
      "Accuracy:  0.9393939393939394\n",
      "Precision: 0.92\n",
      "Recall:    1.0\n",
      "F1 Score:  0.9583333333333334\n"
     ]
    }
   ],
   "source": [
    "def test(test, weights):\n",
    "    tpred = []\n",
    "    tactual = [row[-1] for row in test]\n",
    "    for row in test_set:\n",
    "        pred = np.dot(row[:-1], weights) \n",
    "        tpred.append(0 if pred<0 else 1)\n",
    "        \n",
    "    return tpred, tactual\n",
    "tpred, tactual = test(test_set, weights)\n",
    "\n",
    "def evaluation(tpred, tacutal):\n",
    "    tp = 0\n",
    "    fp = 0\n",
    "    fn = 0\n",
    "    tn = 0\n",
    "    for i in range(len(tactual)):\n",
    "        if tpred[i] == tactual[i]:\n",
    "            if tpred[i] == 0:\n",
    "                tn += 1\n",
    "            else:\n",
    "                tp += 1\n",
    "        else:\n",
    "            if tpred[i] == 0:\n",
    "                fn += 1\n",
    "            else:\n",
    "                fp += 1\n",
    "    recall = tp/(tp+fn)\n",
    "    precision = tp/(tp+fp)\n",
    "    accuracy = (tp+tn)/(tp+tn+fn+fp)\n",
    "    f1 = 2*((precision*recall)/(precision+recall))\n",
    "    return print(f\"\"\"Accuracy:  {accuracy}\n",
    "Precision: {precision}\n",
    "Recall:    {recall}\n",
    "F1 Score:  {f1}\"\"\")\n",
    "\n",
    "\n",
    "evaluation(tpred, tactual)  "
   ]
  },
  {
   "cell_type": "code",
   "execution_count": null,
   "metadata": {},
   "outputs": [],
   "source": []
  },
  {
   "cell_type": "code",
   "execution_count": null,
   "metadata": {},
   "outputs": [],
   "source": []
  }
 ],
 "metadata": {
  "kernelspec": {
   "display_name": "Python 3",
   "language": "python",
   "name": "python3"
  },
  "language_info": {
   "codemirror_mode": {
    "name": "ipython",
    "version": 3
   },
   "file_extension": ".py",
   "mimetype": "text/x-python",
   "name": "python",
   "nbconvert_exporter": "python",
   "pygments_lexer": "ipython3",
   "version": "3.7.6"
  }
 },
 "nbformat": 4,
 "nbformat_minor": 2
}
