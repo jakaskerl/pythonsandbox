{
 "cells": [
  {
   "cell_type": "code",
   "execution_count": null,
   "metadata": {},
   "outputs": [],
   "source": [
    "import random\n",
    "import csv\n",
    "import numpy as np\n",
    "def loader(file):\n",
    "    with open(file) as data:\n",
    "        data_raw = list(csv.reader(data))\n",
    "    return data_raw\n",
    "raw_data = loader(\"sonar.all-data\")\n",
    "for row in raw_data:\n",
    "    for i in row[-1]:\n",
    "        if i == \"R\" or i == \"M\":\n",
    "            key = row.pop(-1)\n",
    "            if key == \"M\":\n",
    "                key = 1\n",
    "            elif key == \"R\":\n",
    "                key = 0\n",
    "            row.append(key)\n",
    "for row in raw_data:\n",
    "    for i in row:\n",
    "        i == float(i)\n",
    "dataset = [list(map(float, row)) for row in raw_data]\n",
    "###### trsize = size of train set (from 0 to 1)\n",
    "def split(dataset, trsize):\n",
    "    train_set = []\n",
    "    test_set = []\n",
    "    random.shuffle(dataset)\n",
    "    for i in range(int(len(dataset)*trsize)):\n",
    "        train_set.append(dataset[i])\n",
    "    for i in range(int(len(dataset)*(1-trsize))):\n",
    "        test_set.append(dataset[i])\n",
    "    return train_set, test_set\n",
    "        \n",
    "train_set, test_set = split(dataset, 0.8)\n"
   ]
  },
  {
   "cell_type": "code",
   "execution_count": 3,
   "metadata": {},
   "outputs": [],
   "source": [
    "weights = np.zeros(len(train_set[0])-1)"
   ]
  },
  {
   "cell_type": "code",
   "execution_count": 4,
   "metadata": {},
   "outputs": [],
   "source": [
    "def predict(train, epoch_n, weights, lrate):\n",
    "    z = 0\n",
    "    for i in range(epoch_n):\n",
    "        predictions = []\n",
    "        for row in train:\n",
    "            sum = np.dot(weights, row[:-1])\n",
    "            predicted = 0.0 if sum<z else 1.0\n",
    "            predictions.append(predicted)\n",
    "            for n in range(len(weights)):\n",
    "                weights[n] += lrate*(row[-1]-predicted)*row[n]\n",
    "    return predictions\n",
    "predictions = predict(train_set, 5000, weights, 0.01)\n",
    "def accuracy(predicted, train):\n",
    "    score = 0\n",
    "    actual = [row[-1] for row in train]\n",
    "    for i in range(len(predicted)):\n",
    "        if predicted[i] == actual[i]:\n",
    "            score += 1\n",
    "    return score/float(len(predicted))*100\n",
    "\n",
    "def test(test, weights):\n",
    "    tpred = []\n",
    "    tactual = [row[-1] for row in test]\n",
    "    for row in test_set:\n",
    "        pred = np.dot(row[:-1], weights) \n",
    "        tpred.append(0 if pred<0 else 1)\n",
    "        \n",
    "    return tpred, tactual\n",
    "tpred, tactual = test(test_set, weights)"
   ]
  },
  {
   "cell_type": "code",
   "execution_count": 5,
   "metadata": {},
   "outputs": [
    {
     "name": "stdout",
     "output_type": "stream",
     "text": [
      "Accuracy:  0.9512195121951219\n",
      "Precision: 1.0\n",
      "Recall:    0.92\n",
      "F1 Score:  0.9583333333333334\n"
     ]
    }
   ],
   "source": [
    "def evaluation(tpred, tacutal):\n",
    "    tp = 0\n",
    "    fp = 0\n",
    "    fn = 0\n",
    "    tn = 0\n",
    "    for i in range(len(tactual)):\n",
    "        if tpred[i] == tactual[i]:\n",
    "            if tpred[i] == 0:\n",
    "                tn += 1\n",
    "            else:\n",
    "                tp += 1\n",
    "        else:\n",
    "            if tpred[i] == 0:\n",
    "                fn += 1\n",
    "            else:\n",
    "                fp += 1\n",
    "    recall = tp/(tp+fn)\n",
    "    precision = tp/(tp+fp)\n",
    "    accuracy = (tp+tn)/(tp+tn+fn+fp)\n",
    "    f1 = 2*((precision*recall)/(precision+recall))\n",
    "    return print(f\"\"\"Accuracy:  {accuracy}\n",
    "Precision: {precision}\n",
    "Recall:    {recall}\n",
    "F1 Score:  {f1}\"\"\")\n",
    "\n",
    "\n",
    "evaluation(tpred, tactual)    "
   ]
  },
  {
   "cell_type": "code",
   "execution_count": 89,
   "metadata": {},
   "outputs": [
    {
     "name": "stderr",
     "output_type": "stream",
     "text": [
      "C:\\Users\\Irena\\Anaconda3\\lib\\site-packages\\sklearn\\linear_model\\stochastic_gradient.py:183: FutureWarning: max_iter and tol parameters have been added in Perceptron in 0.19. If max_iter is set but tol is left unset, the default value for tol in 0.19 and 0.20 will be None (which is equivalent to -infinity, so it has no effect) but will change in 0.21 to 1e-3. Specify tol to silence this warning.\n",
      "  FutureWarning)\n"
     ]
    }
   ],
   "source": [
    "from sklearn.linear_model import Perceptron\n",
    "\n",
    "# training the sklearn Perceptron\n",
    "clf = Perceptron(random_state=None, eta0=0.1, shuffle=False, fit_intercept=False, max_iter=5000)\n",
    "clf.fit([row[:-1] for row in train_set], [row[-1] for row in train_set])\n",
    "y_predict = clf.predict([row[:-1] for row in test_set])"
   ]
  },
  {
   "cell_type": "code",
   "execution_count": 98,
   "metadata": {},
   "outputs": [
    {
     "data": {
      "text/plain": [
       "array([[ True,  True,  True,  True,  True,  True,  True,  True,  True,\n",
       "         True,  True,  True,  True,  True,  True,  True,  True,  True,\n",
       "         True,  True,  True,  True,  True,  True,  True,  True,  True,\n",
       "         True,  True,  True,  True,  True,  True,  True,  True,  True,\n",
       "         True,  True,  True,  True,  True,  True,  True,  True,  True,\n",
       "         True,  True,  True,  True,  True,  True,  True,  True,  True,\n",
       "         True,  True,  True,  True,  True,  True]])"
      ]
     },
     "execution_count": 98,
     "metadata": {},
     "output_type": "execute_result"
    }
   ],
   "source": [
    "clf.coef_ == weights"
   ]
  }
 ],
 "metadata": {
  "kernelspec": {
   "display_name": "Python 3",
   "language": "python",
   "name": "python3"
  },
  "language_info": {
   "codemirror_mode": {
    "name": "ipython",
    "version": 3
   },
   "file_extension": ".py",
   "mimetype": "text/x-python",
   "name": "python",
   "nbconvert_exporter": "python",
   "pygments_lexer": "ipython3",
   "version": "3.7.6"
  }
 },
 "nbformat": 4,
 "nbformat_minor": 2
}
